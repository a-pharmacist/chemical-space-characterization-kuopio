{
  "cells": [
    {
      "cell_type": "markdown",
      "metadata": {
        "id": "xAWpMbx7HQUc"
      },
      "source": [
        "# Training Classification"
      ]
    },
    {
      "cell_type": "code",
      "execution_count": null,
      "metadata": {
        "id": "OUBr5DO7HQUi"
      },
      "outputs": [],
      "source": [
        "# Install chemprop from GitHub if running in Google Colab\n",
        "import os\n",
        "\n",
        "if os.getenv(\"COLAB_RELEASE_TAG\"):\n",
        "    try:\n",
        "        import chemprop\n",
        "    except ImportError:\n",
        "        !git clone https://github.com/chemprop/chemprop.git\n",
        "        %cd chemprop\n",
        "        !pip install .\n",
        "        %cd examples"
      ]
    },
    {
      "cell_type": "markdown",
      "metadata": {
        "id": "98DNJp_HHQUl"
      },
      "source": [
        "# Import packages"
      ]
    },
    {
      "cell_type": "code",
      "execution_count": null,
      "metadata": {
        "id": "hrd-dG7bHQUl"
      },
      "outputs": [],
      "source": [
        "import pandas as pd\n",
        "from pathlib import Path\n",
        "\n",
        "from lightning import pytorch as pl\n",
        "\n",
        "from chemprop import data, featurizers, models, nn"
      ]
    },
    {
      "cell_type": "markdown",
      "metadata": {
        "id": "n_TCC3cdHQUm"
      },
      "source": [
        "# Change data inputs here"
      ]
    },
    {
      "cell_type": "code",
      "execution_count": null,
      "metadata": {
        "id": "GRsOF1VgHQUn"
      },
      "outputs": [],
      "source": [
        "input_path = \"/content/s_aureus_43300_MASSA_split_final.csv\" # path to your data .csv file\n",
        "num_workers = 0 # number of workers for dataloader. 0 means using main process for data loading\n",
        "smiles_column = \"smiles\" # name of the column containing SMILES strings\n",
        "target_column = [\"label\"] # classification of activity (either 0 or 1)"
      ]
    },
    {
      "cell_type": "markdown",
      "metadata": {
        "id": "_tUB3oikHQUo"
      },
      "source": [
        "## Load data"
      ]
    },
    {
      "cell_type": "code",
      "execution_count": null,
      "metadata": {
        "id": "tquD2rCiHQUp"
      },
      "outputs": [],
      "source": [
        "df_input = pd.read_csv(input_path)\n",
        "df_input"
      ]
    },
    {
      "cell_type": "markdown",
      "metadata": {
        "id": "kTCut6vdHQUq"
      },
      "source": [
        "## Get SMILES and targets"
      ]
    },
    {
      "cell_type": "markdown",
      "source": [
        "Data splitting into training, testing, and validation was performed in advance using MASSA Algorithm: https://github.com/gcverissimo/MASSA_Algorithm"
      ],
      "metadata": {
        "id": "KNsIIS7dJQZZ"
      }
    },
    {
      "cell_type": "code",
      "source": [
        "df_input[\"split\"].value_counts()"
      ],
      "metadata": {
        "id": "cPAO5-q9JWh_"
      },
      "execution_count": null,
      "outputs": []
    },
    {
      "cell_type": "code",
      "source": [
        "df_train = df_input[df_input[\"split\"] == \"Treino\"]\n",
        "df_test = df_input[df_input[\"split\"] == \"Teste\"]\n",
        "df_val = df_input[df_input[\"split\"] == \"Validacao\"]"
      ],
      "metadata": {
        "id": "xhsFtr_uJXzH"
      },
      "execution_count": null,
      "outputs": []
    },
    {
      "cell_type": "code",
      "source": [
        "smis_train = df_train.loc[:, smiles_column].values\n",
        "ys_train = df_train.loc[:, target_column].values\n",
        "smis_train[:5], ys_train[:5]"
      ],
      "metadata": {
        "id": "IZOIoMOlJbYX"
      },
      "execution_count": null,
      "outputs": []
    },
    {
      "cell_type": "code",
      "source": [
        "smis_test = df_test.loc[:, smiles_column].values\n",
        "ys_test = df_test.loc[:, target_column].values\n",
        "smis_test[:5], ys_test[:5]"
      ],
      "metadata": {
        "id": "6MAKKftZJdSu"
      },
      "execution_count": null,
      "outputs": []
    },
    {
      "cell_type": "code",
      "source": [
        "smis_val = df_val.loc[:, smiles_column].values\n",
        "ys_val = df_val.loc[:, target_column].values\n",
        "smis_val[:5], ys_val[:5]"
      ],
      "metadata": {
        "id": "AnCpyKxBJhD3"
      },
      "execution_count": null,
      "outputs": []
    },
    {
      "cell_type": "markdown",
      "metadata": {
        "id": "imE9NAvHHQUs"
      },
      "source": [
        "## Get molecule datapoints"
      ]
    },
    {
      "cell_type": "code",
      "execution_count": null,
      "metadata": {
        "id": "R7Lm70QRHQUt"
      },
      "outputs": [],
      "source": [
        "data_train = [data.MoleculeDatapoint.from_smi(smi, y) for smi, y in zip(smis_train, ys_train)]\n",
        "data_test = [data.MoleculeDatapoint.from_smi(smi, y) for smi, y in zip(smis_test, ys_test)]\n",
        "data_val = [data.MoleculeDatapoint.from_smi(smi, y) for smi, y in zip(smis_val, ys_val)]"
      ]
    },
    {
      "cell_type": "markdown",
      "metadata": {
        "id": "NSrwOB7gHQUu"
      },
      "source": [
        "## Get MoleculeDataset"
      ]
    },
    {
      "cell_type": "code",
      "execution_count": null,
      "metadata": {
        "id": "g8Gd12SIHQUu"
      },
      "outputs": [],
      "source": [
        "featurizer = featurizers.SimpleMoleculeMolGraphFeaturizer()\n",
        "\n",
        "train_dset = data.MoleculeDataset(data_train, featurizer)\n",
        "test_dset = data.MoleculeDataset(data_test, featurizer)\n",
        "val_dset = data.MoleculeDataset(data_val, featurizer)"
      ]
    },
    {
      "cell_type": "markdown",
      "metadata": {
        "id": "nQtE-pDuHQUv"
      },
      "source": [
        "## Get DataLoader"
      ]
    },
    {
      "cell_type": "code",
      "execution_count": null,
      "metadata": {
        "id": "3IUGegBuHQUv"
      },
      "outputs": [],
      "source": [
        "train_loader = data.build_dataloader(train_dset, num_workers=num_workers)\n",
        "test_loader = data.build_dataloader(test_dset, num_workers=num_workers, shuffle=False)\n",
        "val_loader = data.build_dataloader(val_dset, num_workers=num_workers, shuffle=False)"
      ]
    },
    {
      "cell_type": "markdown",
      "metadata": {
        "id": "HU1cwyOTHQUv"
      },
      "source": [
        "# Change Message-Passing Neural Network (MPNN) inputs here"
      ]
    },
    {
      "cell_type": "markdown",
      "metadata": {
        "id": "wiihAGT3HQUw"
      },
      "source": [
        "## Message Passing\n",
        "A `Message passing` constructs molecular graphs using message passing to learn node-level hidden representations.\n",
        "\n",
        "Options are `mp = nn.BondMessagePassing()` or `mp = nn.AtomMessagePassing()`"
      ]
    },
    {
      "cell_type": "code",
      "execution_count": null,
      "metadata": {
        "id": "xwaFRL0ZHQUw"
      },
      "outputs": [],
      "source": [
        "mp = nn.AtomMessagePassing()"
      ]
    },
    {
      "cell_type": "markdown",
      "metadata": {
        "id": "qj2iN9-eHQUw"
      },
      "source": [
        "## Aggregation\n",
        "An `Aggregation` is responsible for constructing a graph-level representation from the set of node-level representations after message passing.\n",
        "\n",
        "Available options can be found in ` nn.agg.AggregationRegistry`, including\n",
        "- `agg = nn.MeanAggregation()`\n",
        "- `agg = nn.SumAggregation()`\n",
        "- `agg = nn.NormAggregation()`"
      ]
    },
    {
      "cell_type": "code",
      "execution_count": null,
      "metadata": {
        "id": "bnKLEsGqHQUw"
      },
      "outputs": [],
      "source": [
        "print(nn.agg.AggregationRegistry)"
      ]
    },
    {
      "cell_type": "code",
      "execution_count": null,
      "metadata": {
        "id": "usFeRDHBHQUx"
      },
      "outputs": [],
      "source": [
        "agg = nn.MeanAggregation()"
      ]
    },
    {
      "cell_type": "markdown",
      "metadata": {
        "id": "Uh3VrZIzHQUx"
      },
      "source": [
        "## Feed-Forward Network (FFN)\n",
        "\n",
        "A `FFN` takes the aggregated representations and make target predictions.\n",
        "\n",
        "Available options can be found in `nn.PredictorRegistry`.\n",
        "\n",
        "For regression:\n",
        "- `ffn = nn.RegressionFFN()`\n",
        "- `ffn = nn.MveFFN()`\n",
        "- `ffn = nn.EvidentialFFN()`\n",
        "\n",
        "For classification:\n",
        "- `ffn = nn.BinaryClassificationFFN()`\n",
        "- `ffn = nn.BinaryDirichletFFN()`\n",
        "- `ffn = nn.MulticlassClassificationFFN()`\n",
        "- `ffn = nn.MulticlassDirichletFFN()`\n",
        "\n",
        "For spectral:\n",
        "- `ffn = nn.SpectralFFN()` # will be available in future version"
      ]
    },
    {
      "cell_type": "code",
      "execution_count": null,
      "metadata": {
        "id": "maaSfAepHQUx"
      },
      "outputs": [],
      "source": [
        "print(nn.PredictorRegistry)"
      ]
    },
    {
      "cell_type": "code",
      "execution_count": null,
      "metadata": {
        "id": "-7R2ULbHHQUy"
      },
      "outputs": [],
      "source": [
        "ffn = nn.BinaryClassificationFFN(n_tasks = 1)"
      ]
    },
    {
      "cell_type": "markdown",
      "metadata": {
        "id": "blfcIrXeHQUy"
      },
      "source": [
        "## Batch Norm\n",
        "A `Batch Norm` normalizes the outputs of the aggregation by re-centering and re-scaling.\n",
        "\n",
        "Whether to use batch norm"
      ]
    },
    {
      "cell_type": "code",
      "execution_count": null,
      "metadata": {
        "id": "7Z87FgU-HQUy"
      },
      "outputs": [],
      "source": [
        "batch_norm = False"
      ]
    },
    {
      "cell_type": "markdown",
      "metadata": {
        "id": "6hycmJV8HQUy"
      },
      "source": [
        "## Metrics\n",
        "`Metrics` are the ways to evaluate the performance of model predictions.\n",
        "\n",
        "Available options can be found in `metrics.MetricRegistry`, including"
      ]
    },
    {
      "cell_type": "code",
      "execution_count": null,
      "metadata": {
        "id": "HYVe44ypHQUz"
      },
      "outputs": [],
      "source": [
        "print(nn.metrics.MetricRegistry)"
      ]
    },
    {
      "cell_type": "code",
      "execution_count": null,
      "metadata": {
        "id": "X4xm7fv-HQUz"
      },
      "outputs": [],
      "source": [
        "# AUROC used by default\n",
        "\n",
        "metric_list = [nn.metrics.BinaryMCCMetric(), nn.metrics.BinaryAUROC()]"
      ]
    },
    {
      "cell_type": "markdown",
      "metadata": {
        "id": "0_Bx3Y07HQUz"
      },
      "source": [
        "## Constructs MPNN"
      ]
    },
    {
      "cell_type": "code",
      "execution_count": null,
      "metadata": {
        "id": "RuZYtIDNHQUz"
      },
      "outputs": [],
      "source": [
        "mpnn = models.MPNN(mp, agg, ffn, batch_norm, metric_list)\n",
        "\n",
        "mpnn"
      ]
    },
    {
      "cell_type": "markdown",
      "metadata": {
        "id": "8KOLVK4qHQU0"
      },
      "source": [
        "# Set up trainer"
      ]
    },
    {
      "cell_type": "code",
      "execution_count": null,
      "metadata": {
        "id": "Vwb2HjRHHQU0"
      },
      "outputs": [],
      "source": [
        "trainer = pl.Trainer(\n",
        "    logger=False,\n",
        "    enable_checkpointing=True, # Use `True` if you want to save model checkpoints. The checkpoints will be saved in the `checkpoints` folder.\n",
        "    enable_progress_bar=True,\n",
        "    accelerator=\"cpu\",\n",
        "    devices=1,\n",
        "    max_epochs=20, # number of epochs to train for\n",
        ")"
      ]
    },
    {
      "cell_type": "markdown",
      "metadata": {
        "id": "Fg74fjg4HQVK"
      },
      "source": [
        "# Start training"
      ]
    },
    {
      "cell_type": "code",
      "execution_count": null,
      "metadata": {
        "id": "dwmf9wgDHQVK"
      },
      "outputs": [],
      "source": [
        "trainer.fit(mpnn, train_loader, test_loader)"
      ]
    },
    {
      "cell_type": "markdown",
      "metadata": {
        "id": "VvcezMIQHQVK"
      },
      "source": [
        "# Test results"
      ]
    },
    {
      "cell_type": "code",
      "execution_count": null,
      "metadata": {
        "id": "pK0gTkB1HQVL"
      },
      "outputs": [],
      "source": [
        "results = trainer.test(mpnn, val_loader)"
      ]
    }
  ],
  "metadata": {
    "kernelspec": {
      "display_name": "chemprop",
      "language": "python",
      "name": "python3"
    },
    "language_info": {
      "codemirror_mode": {
        "name": "ipython",
        "version": 3
      },
      "file_extension": ".py",
      "mimetype": "text/x-python",
      "name": "python",
      "nbconvert_exporter": "python",
      "pygments_lexer": "ipython3",
      "version": "3.11.8"
    },
    "colab": {
      "provenance": []
    }
  },
  "nbformat": 4,
  "nbformat_minor": 0
}